{
 "cells": [
  {
   "cell_type": "code",
   "execution_count": null,
   "metadata": {
    "scrolled": false
   },
   "outputs": [],
   "source": [
    "import sys, os, serial, threading\n"
   ]
  },
  {
   "cell_type": "code",
   "execution_count": null,
   "metadata": {},
   "outputs": [],
   "source": [
    "def monitor(filename):\n",
    "\n",
    "    # Open the serial connection\n",
    "    ser = serial.Serial(COMPORT, BAUDRATE, timeout=0)\n",
    "    # Open the file to which the output will be written\n",
    "    if '.' not in filename:\n",
    "        \n",
    "    text_file = open(filename, \"w\")\n",
    "    \n",
    "    # Write headers for output file\n",
    "    text_file.write('Sensor\\tOutput\\tTime\\n')\n",
    "    \n",
    "    i = 0\n",
    "    while True:\n",
    "        try:\n",
    "            line = ser.readline()\n",
    "            \n",
    "             #print line\n",
    "            \n",
    "            if (line != \"\"):\n",
    "                i = i +1\n",
    "                if i > 100:\n",
    "                    print 'looking at values now'\n",
    "                    print 'i = ' + str(i)\n",
    "                   \n",
    "\n",
    "                    print line\n",
    "                    \"\"\" print values\n",
    "\n",
    "                    sensor = values[0]\n",
    "                    output = values[1]\n",
    "                    time = values[2]\n",
    "                    values = line.split(\" \")\n",
    "\"\"\"\n",
    "\n",
    "                    #text_file.write(sensor + \"\\t\" + output + \"\\t\" + time + \"\\n\")\n",
    "                    text_file.write(line)\n",
    "        except KeyboardInterrupt:\n",
    "            break\n",
    "    \n",
    "    text_file.close()\n",
    "           \n",
    "    print \"Stop Monitoring\"\n",
    "\n",
    "\"\"\" -------------------------------------------\n",
    "MAIN APPLICATION\n",
    "\"\"\"  \n",
    "\n",
    "print \"Start Serial Monitor\"\n",
    "print\n",
    "\n",
    "COMPORT = '/dev/ttyACM1'\n",
    "BAUDRATE = 115200\n",
    "\n",
    "monitor()"
   ]
  },
  {
   "cell_type": "code",
   "execution_count": 82,
   "metadata": {},
   "outputs": [],
   "source": [
    "import numpy as np\n",
    "import matplotlib.pyplot as plt"
   ]
  },
  {
   "cell_type": "code",
   "execution_count": 83,
   "metadata": {
    "scrolled": true
   },
   "outputs": [
    {
     "name": "stdout",
     "output_type": "stream",
     "text": [
      "[[1023. 1023. 1023. ...    0.    0.    0.]\n",
      " [ 255.  255.  255. ...    0.    0.    0.]\n",
      " [5065. 5067. 5068. ... 7448. 7448. 7449.]]\n"
     ]
    }
   ],
   "source": [
    "filename = 'arduinoData.csv'\n",
    "\n",
    "data = np.genfromtxt(filename, skip_header = True, unpack = True)\n",
    "\n",
    "print data"
   ]
  },
  {
   "cell_type": "code",
   "execution_count": 84,
   "metadata": {
    "scrolled": true
   },
   "outputs": [
    {
     "data": {
      "text/plain": [
       "<matplotlib.legend.Legend at 0x7fd503ea8450>"
      ]
     },
     "execution_count": 84,
     "metadata": {},
     "output_type": "execute_result"
    },
    {
     "data": {
      "image/png": "[encoded data removed]",
      "text/plain": [
       "<Figure size 432x288 with 1 Axes>"
      ]
     },
     "metadata": {},
     "output_type": "display_data"
    }
   ],
   "source": [
    "plt.figure()\n",
    "plt.title('Superfun Test')\n",
    "plt.xlabel('Time')\n",
    "plt.ylabel('Sensor/Output')\n",
    "\n",
    "plt.plot(data[2], data[0], label = 'Sensor', color = 'r')\n",
    "plt.plot(data[2], data[1], label = 'Output', color = 'b')\n",
    "\n",
    "plt.legend()\n"
   ]
  },
  {
   "cell_type": "code",
   "execution_count": null,
   "metadata": {},
   "outputs": [],
   "source": []
  }
 ],
 "metadata": {
  "kernelspec": {
   "display_name": "Python 2",
   "language": "python",
   "name": "python2"
  },
  "language_info": {
   "codemirror_mode": {
    "name": "ipython",
    "version": 2
   },
   "file_extension": ".py",
   "mimetype": "text/x-python",
   "name": "python",
   "nbconvert_exporter": "python",
   "pygments_lexer": "ipython2",
   "version": "2.7.12"
  }
 },
 "nbformat": 4,
 "nbformat_minor": 2
}
