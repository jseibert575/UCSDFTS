{
 "cells": [
  {
   "cell_type": "markdown",
   "metadata": {},
   "source": [
    "# Simulated Data for FTS Analysis Code assuming Monochromatic Source\n",
    "\n",
    "#### Lindsay Ng Lowry\n",
    "#### 20181023"
   ]
  },
  {
   "cell_type": "code",
   "execution_count": 20,
   "metadata": {
    "collapsed": true
   },
   "outputs": [],
   "source": [
    "import numpy as np\n",
    "import matplotlib.pyplot as plt\n",
    "import cPickle as pkl"
   ]
  },
  {
   "cell_type": "code",
   "execution_count": 41,
   "metadata": {
    "collapsed": false
   },
   "outputs": [
    {
     "name": "stdout",
     "output_type": "stream",
     "text": [
      "/Users/lindsay/Documents/UCSD/POLARBEAR_Research/FourierTransformSpectrometer/Code/LabTesting/MapFiles\n"
     ]
    }
   ],
   "source": [
    "cd /Users/lindsay/Documents/UCSD/POLARBEAR_Research/FourierTransformSpectrometer/Code/LabTesting/Mapfiles"
   ]
  },
  {
   "cell_type": "code",
   "execution_count": 42,
   "metadata": {
    "collapsed": false
   },
   "outputs": [
    {
     "name": "stdout",
     "output_type": "stream",
     "text": [
      "Positions (encoder counts):  [-738000. -737262. -736524. ...,  736524.  737262.  738000.]\n",
      "Positions (inches):  [-5.904    -5.898096 -5.892192 ...,  5.892192  5.898096  5.904   ]\n",
      "Positions (m):  [-0.14996152 -0.14981156 -0.1496616  ...,  0.1496616   0.14981156\n",
      "  0.14996152]\n"
     ]
    }
   ],
   "source": [
    "# Load the mapfile and convert positions from encoder counts to m - should be max range/resolution\n",
    "mapfile = 'FTSScanPoints_DEFAULT.txt'\n",
    "\n",
    "positions = np.loadtxt(mapfile)\n",
    "print \"Positions (encoder counts): \", positions\n",
    "\n",
    "# Convert from encoder counts to inches\n",
    "steps_per_inch = 125000.0\n",
    "positions_inches = positions/steps_per_inch\n",
    "print \"Positions (inches): \", positions_inches\n",
    "\n",
    "# Convert from inches to m\n",
    "positions_m = positions_inches*(1./39.3701)\n",
    "print \"Positions (m): \", positions_m"
   ]
  },
  {
   "cell_type": "code",
   "execution_count": 43,
   "metadata": {
    "collapsed": false
   },
   "outputs": [
    {
     "name": "stdout",
     "output_type": "stream",
     "text": [
      "[-0.29992304 -0.29962312 -0.29932319 ...,  0.29932319  0.29962312\n",
      "  0.29992304]\n"
     ]
    }
   ],
   "source": [
    "# Convert from position to path length difference (multiply by 2)\n",
    "path_diffs = positions_m*2.0\n",
    "print path_diffs"
   ]
  },
  {
   "cell_type": "code",
   "execution_count": 44,
   "metadata": {
    "collapsed": true
   },
   "outputs": [],
   "source": [
    "# Function to calculated the intensity for a given path length difference and wavelength assuming I_0 = 1\n",
    "    # Eq 8 in https://pubs.acs.org/doi/pdf/10.1021/ed2002253\n",
    "def calc_intensity(wavelength, path_diff):\n",
    "    return 0.5*(1 + np.cos((2*np.pi*path_diff)/(wavelength)))"
   ]
  },
  {
   "cell_type": "code",
   "execution_count": 45,
   "metadata": {
    "collapsed": true
   },
   "outputs": [],
   "source": [
    "# Function to add a linear trend to the data\n",
    "def linear_trend(x,slope):\n",
    "    return slope*x"
   ]
  },
  {
   "cell_type": "code",
   "execution_count": 46,
   "metadata": {
    "collapsed": false
   },
   "outputs": [
    {
     "name": "stdout",
     "output_type": "stream",
     "text": [
      "2001\n",
      "True\n"
     ]
    }
   ],
   "source": [
    "# Make an array containing the calculated ideal intensities for each mirror position\n",
    "# Add a linear trend on top of the data if desired\n",
    "wavelengths = np.arange(0.0005,0.0030,0.0001)\n",
    "\n",
    "interf_data = []\n",
    "for pd in path_diffs:\n",
    "    signal = 0\n",
    "    for w in wavelengths:\n",
    "        signal += calc_intensity(w,pd)\n",
    "    \n",
    "    linear_addition = linear_trend(pd,15)\n",
    "    signal += linear_addition\n",
    "    interf_data.append(signal)\n",
    "    \n",
    "interf_data = np.array(interf_data)\n",
    "print len(interf_data)\n",
    "print len(interf_data) == len(positions)\n",
    "\n"
   ]
  },
  {
   "cell_type": "code",
   "execution_count": 47,
   "metadata": {
    "collapsed": false
   },
   "outputs": [],
   "source": [
    "# Add the position and signal data to a dictionary mimicking the data output from Nate's cryostat\n",
    "data = {}\n",
    "for p, signal in zip(positions, interf_data):\n",
    "    data[p] = signal"
   ]
  },
  {
   "cell_type": "code",
   "execution_count": 48,
   "metadata": {
    "collapsed": true
   },
   "outputs": [],
   "source": [
    "# Plot the interferogram\n",
    "plt.figure()\n",
    "plt.plot(positions_inches,interf_data)\n",
    "plt.show()"
   ]
  },
  {
   "cell_type": "code",
   "execution_count": 49,
   "metadata": {
    "collapsed": false
   },
   "outputs": [
    {
     "name": "stdout",
     "output_type": "stream",
     "text": [
      "/Users/lindsay/Documents/UCSD/POLARBEAR_Research/FourierTransformSpectrometer/Data\n"
     ]
    }
   ],
   "source": [
    "cd /Users/lindsay/Documents/UCSD/POLARBEAR_Research/FourierTransformSpectrometer/Data"
   ]
  },
  {
   "cell_type": "code",
   "execution_count": 50,
   "metadata": {
    "collapsed": false
   },
   "outputs": [],
   "source": [
    "# Dump the position (in encoder count) and signal to a pickle file\n",
    "with open('SimulatedData_Range_LinearTrend_zeropt.pkl', 'w') as f:\n",
    "    pkl.dump(data,f)"
   ]
  },
  {
   "cell_type": "code",
   "execution_count": null,
   "metadata": {
    "collapsed": true
   },
   "outputs": [],
   "source": []
  }
 ],
 "metadata": {
  "kernelspec": {
   "display_name": "Python 2",
   "language": "python",
   "name": "python2"
  },
  "language_info": {
   "codemirror_mode": {
    "name": "ipython",
    "version": 2
   },
   "file_extension": ".py",
   "mimetype": "text/x-python",
   "name": "python",
   "nbconvert_exporter": "python",
   "pygments_lexer": "ipython2",
   "version": "2.7.13"
  }
 },
 "nbformat": 4,
 "nbformat_minor": 0
}
