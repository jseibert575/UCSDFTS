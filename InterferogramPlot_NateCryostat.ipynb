{
 "cells": [
  {
   "cell_type": "markdown",
   "metadata": {},
   "source": [
    "# Interferogram Plot - UCSD Nate's Cryostat\n",
    "\n",
    "#### Lindsay Ng Lowry\n",
    "#### llowry@ucsd.edu\n",
    "#### 20180829\n",
    "\n",
    "This code was written to plot the interferogram data taken from using the UCSD lab-use FTS with Nate's cryostat.  It produces a plot which depicts average signal level against mirror position, with errorbars representing the standard deviation in the signal over the integration time."
   ]
  },
  {
   "cell_type": "code",
   "execution_count": 1,
   "metadata": {
    "collapsed": true
   },
   "outputs": [],
   "source": [
    "import cPickle as pkl\n",
    "import numpy as np\n",
    "import matplotlib.pyplot as plt"
   ]
  },
  {
   "cell_type": "code",
   "execution_count": 39,
   "metadata": {
    "collapsed": false
   },
   "outputs": [
    {
     "name": "stdout",
     "output_type": "stream",
     "text": [
      "/Users/lindsay/Documents/UCSD/POLARBEAR_Research/FourierTransformSpectrometer/Data/NateCryostat/20181011_Cooldown/Scan06/20181015_194204_Interferogram_NateCryostat_NoErrorbar.png\n"
     ]
    }
   ],
   "source": [
    "# Get the name of the pickle file containing the data\n",
    "folder = '/Users/lindsay/Documents/UCSD/POLARBEAR_Research/FourierTransformSpectrometer/Data/NateCryostat/20181011_Cooldown/'\n",
    "filename = folder + 'Scan06/20181015_194204_Interferogram_NateCryostat.pkl'\n",
    "# Indicate whether the plot should be saved, and set the filename of the saved image if necessary\n",
    "savefile = False\n",
    "\n",
    "#savefilename = filename[:-4]+'.png'\n",
    "savefilename = filename[:-4]+'_NoErrorbar.png' \n",
    "print savefilename"
   ]
  },
  {
   "cell_type": "code",
   "execution_count": 40,
   "metadata": {
    "collapsed": true
   },
   "outputs": [],
   "source": [
    "# Load the raw data from the pickle file\n",
    "with open(filename, 'r') as f:\n",
    "    rawData = pkl.load(f)"
   ]
  },
  {
   "cell_type": "code",
   "execution_count": 41,
   "metadata": {
    "collapsed": false
   },
   "outputs": [],
   "source": [
    "# Get the mean and standard deviation of the timestream data and put into a dictionary keyed by mirror position\n",
    "dataDict = {}\n",
    "for pos in sorted(rawData.keys()):\n",
    "    currData = rawData[pos]\n",
    "    dataDict[pos] = {}\n",
    "    dataDict[pos]['mean'] = np.mean(currData)\n",
    "    dataDict[pos]['std'] = np.std(currData)\n",
    "    "
   ]
  },
  {
   "cell_type": "code",
   "execution_count": 43,
   "metadata": {
    "collapsed": false
   },
   "outputs": [
    {
     "name": "stdout",
     "output_type": "stream",
     "text": [
      "-94.0\n",
      "250\n",
      "501\n",
      "Steps (encoder counts): \n",
      "[ 1476.  1476.  1476.  1476.  1476.  1476.  1476.  1476.  1476.  1476.\n",
      "  1476.  1476.  1476.  1476.  1476.  1476.  1476.  1476.  1476.  1476.\n",
      "  1476.  1476.  1476.  1476.  1476.  1476.  1476.  1476.  1476.  1476.\n",
      "  1476.  1476.  1476.  1476.  1476.  1476.  1476.  1476.  1476.  1476.\n",
      "  1476.  1476.  1476.  1476.  1476.  1476.  1476.  1476.  1476.  1476.\n",
      "  1476.  1476.  1476.  1476.  1476.  1476.  1476.  1476.  1476.  1476.\n",
      "  1476.  1476.  1476.  1476.  1476.  1476.  1476.  1476.  1476.  1476.\n",
      "  1476.  1476.  1476.  1476.  1476.  1476.  1476.  1476.  1476.  1476.\n",
      "  1476.  1476.  1476.  1476.  1476.  1476.  1476.  1476.  1476.  1476.\n",
      "  1476.  1476.  1476.  1476.  1476.  1476.  1476.  1476.  1476.  1476.\n",
      "  1476.  1476.  1476.  1476.  1476.  1476.  1476.  1476.  1476.  1476.\n",
      "  1476.  1476.  1476.  1476.  1476.  1476.  1476.  1476.  1476.  1476.\n",
      "  1476.  1476.  1476.  1476.  1476.  1476.  1476.  1476.  1476.  1476.\n",
      "  1476.  1476.  1476.  1476.  1476.  1476.  1476.  1476.  1476.  1476.\n",
      "  1476.  1476.  1476.  1476.  1476.  1476.  1476.  1476.  1476.  1476.\n",
      "  1476.  1476.  1476.  1476.  1476.  1476.  1476.  1476.  1476.  1476.\n",
      "  1476.  1476.  1476.  1476.  1476.  1476.  1476.  1476.  1476.  1476.\n",
      "  1476.  1476.  1476.  1476.  1476.  1476.  1476.  1476.  1476.  1476.\n",
      "  1476.  1476.  1476.  1476.  1476.  1476.  1476.  1476.  1476.  1476.\n",
      "  1476.  1476.  1476.  1476.  1476.  1476.  1476.  1476.  1476.  1476.\n",
      "  1476.  1476.  1476.  1476.  1476.  1476.  1476.  1476.  1476.  1476.\n",
      "  1476.  1476.  1476.  1476.  1476.  1476.  1476.  1476.  1476.  1476.\n",
      "  1476.  1476.  1476.  1476.  1476.  1476.  1476.  1476.  1476.  1476.\n",
      "  1476.  1476.  1476.  1476.  1476.  1476.  1476.  1476.  1476.  1476.\n",
      "  1476.  1476.  1476.  1476.  1476.  1476.  1476.  1476.  1476.  1476.\n",
      "  1476.  1476.  1476.  1476.  1476.  1476.  1476.  1476.  1476.  1476.\n",
      "  1476.  1476.  1476.  1476.  1476.  1476.  1476.  1476.  1476.  1476.\n",
      "  1476.  1476.  1476.  1476.  1476.  1476.  1476.  1476.  1476.  1476.\n",
      "  1476.  1476.  1476.  1476.  1476.  1476.  1476.  1476.  1476.  1476.\n",
      "  1476.  1476.  1476.  1476.  1476.  1476.  1476.  1476.  1476.  1476.\n",
      "  1476.  1476.  1476.  1476.  1476.  1476.  1476.  1476.  1476.  1476.\n",
      "  1476.  1476.  1476.  1476.  1476.  1476.  1476.  1476.  1476.  1476.\n",
      "  1476.  1476.  1476.  1476.  1476.  1476.  1476.  1476.  1476.  1476.\n",
      "  1476.  1476.  1476.  1476.  1476.  1476.  1476.  1476.  1476.  1476.\n",
      "  1476.  1476.  1476.  1476.  1476.  1476.  1476.  1476.  1476.  1476.\n",
      "  1476.  1476.  1476.  1476.  1476.  1476.  1476.  1476.  1476.  1476.\n",
      "  1476.  1476.  1476.  1476.  1476.  1476.  1476.  1476.  1476.  1476.\n",
      "  1476.  1476.  1476.  1476.  1476.  1476.  1476.  1476.  1476.  1476.\n",
      "  1476.  1476.  1476.  1476.  1476.  1476.  1476.  1476.  1476.  1476.\n",
      "  1476.  1476.  1476.  1476.  1476.  1476.  1476.  1476.  1476.  1476.\n",
      "  1476.  1476.  1476.  1476.  1476.  1476.  1476.  1476.  1476.  1476.\n",
      "  1476.  1476.  1476.  1476.  1476.  1476.  1476.  1476.  1476.  1476.\n",
      "  1476.  1476.  1476.  1476.  1476.  1476.  1476.  1476.  1476.  1476.\n",
      "  1476.  1476.  1476.  1476.  1476.  1476.  1476.  1476.  1476.  1476.\n",
      "  1476.  1476.  1476.  1476.  1476.  1476.  1476.  1476.  1476.  1476.\n",
      "  1476.  1476.  1476.  1476.  1476.  1476.  1476.  1476.  1476.  1476.\n",
      "  1476.  1476.  1476.  1476.  1476.  1476.  1476.  1476.  1476.  1476.\n",
      "  1476.  1476.  1476.  1476.  1476.  1476.  1476.  1476.  1476.  1476.\n",
      "  1476.  1476.  1476.  1476.  1476.  1476.  1476.  1476.  1476.  1476.\n",
      "  1476.  1476.  1476.  1476.  1476.  1476.  1476.  1476.  1476.  1476.]\n",
      "Average step size: 1476.0\n",
      "Step size standard dev: 0.0\n"
     ]
    }
   ],
   "source": [
    "# Find the step size\n",
    "posArray = []\n",
    "for i,pos in enumerate(sorted(dataDict.keys())):\n",
    "    if pos <1000 and pos > -1000:\n",
    "        print pos\n",
    "        print i\n",
    "    posArray.append(pos)\n",
    "\n",
    "print len(posArray)\n",
    "    \n",
    "posArray = np.array(posArray)\n",
    "steps = np.diff(posArray)\n",
    "print 'Steps (encoder counts): '\n",
    "print steps\n",
    "print 'Average step size: ' + str(np.mean(steps))\n",
    "print 'Step size standard dev: ' + str(np.std(steps))"
   ]
  },
  {
   "cell_type": "code",
   "execution_count": 36,
   "metadata": {
    "collapsed": false
   },
   "outputs": [],
   "source": [
    "# Plot the interferogram\n",
    "plt.figure()\n",
    "plt.title('Interferogram Data - \\n' + filename)\n",
    "plt.xlabel('Mirror Position (encoder counts)')\n",
    "plt.ylabel('Signal')\n",
    "#plt.xlim(-300000, 300000)\n",
    "#plt.ylim(-.05, .10)\n",
    "\n",
    "# Make arrays to hold the positions, signal levels, and standard deviations\n",
    "posArray = []\n",
    "signalArray = []\n",
    "errorArray = []\n",
    "for pos in sorted(dataDict.keys()):\n",
    "    posArray.append(pos)\n",
    "    signalArray.append(dataDict[pos]['mean'])\n",
    "    errorArray.append(dataDict[pos]['std'])\n",
    "\n",
    "# Plot the arrays\n",
    "posArray = np.array(posArray)\n",
    "signalArray = np.array(signalArray)\n",
    "errorArray = np.array(errorArray)\n",
    "#plt.errorbar(posArray, signalArray, marker = '.', yerr = errorArray, linestyle = 'None', ecolor = 'r')    \n",
    "plt.plot(posArray, signalArray)\n",
    "\n",
    "# Save or show the plot\n",
    "if savefile:\n",
    "    plt.savefig(savefilename)\n",
    "\n",
    "plt.show()"
   ]
  },
  {
   "cell_type": "code",
   "execution_count": 18,
   "metadata": {
    "collapsed": true
   },
   "outputs": [],
   "source": [
    "meanerr = np.mean(errorArray)\n",
    "\n",
    "plt.figure()\n",
    "plt.title('1s Integration Time - Mean Error = ' + str(meanerr))\n",
    "plt.xlabel('Mirror Position (encoder counts)')\n",
    "plt.ylabel('Standard Dev')\n",
    "plt.ylim(0.02,0.05)\n",
    "plt.plot(posArray, errorArray)\n",
    "\n",
    "plt.show()"
   ]
  },
  {
   "cell_type": "code",
   "execution_count": 40,
   "metadata": {
    "collapsed": false
   },
   "outputs": [
    {
     "name": "stdout",
     "output_type": "stream",
     "text": [
      "[ 10.1025486  10.1025486  10.1025486 ...,  10.1025486  10.1025486\n",
      "  10.1025486]\n"
     ]
    }
   ],
   "source": [
    "print signalArray"
   ]
  },
  {
   "cell_type": "code",
   "execution_count": null,
   "metadata": {
    "collapsed": true
   },
   "outputs": [],
   "source": []
  },
  {
   "cell_type": "code",
   "execution_count": null,
   "metadata": {
    "collapsed": true
   },
   "outputs": [],
   "source": []
  }
 ],
 "metadata": {
  "kernelspec": {
   "display_name": "Python 2",
   "language": "python",
   "name": "python2"
  },
  "language_info": {
   "codemirror_mode": {
    "name": "ipython",
    "version": 2
   },
   "file_extension": ".py",
   "mimetype": "text/x-python",
   "name": "python",
   "nbconvert_exporter": "python",
   "pygments_lexer": "ipython2",
   "version": "2.7.13"
  }
 },
 "nbformat": 4,
 "nbformat_minor": 0
}
